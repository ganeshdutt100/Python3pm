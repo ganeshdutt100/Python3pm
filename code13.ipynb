{
 "cells": [
  {
   "cell_type": "code",
   "execution_count": 5,
   "metadata": {},
   "outputs": [
    {
     "name": "stdout",
     "output_type": "stream",
     "text": [
      "6\n",
      "7\n",
      "39\n",
      "10\n",
      "72\n",
      "13\n",
      "14\n",
      "39\n"
     ]
    }
   ],
   "source": [
    "number = [1,2,34,5,67,8,9,34]\n",
    "for i in number :\n",
    " print(i+5)\n",
    "\n",
    "# print(number)"
   ]
  },
  {
   "cell_type": "code",
   "execution_count": 7,
   "metadata": {},
   "outputs": [
    {
     "name": "stdout",
     "output_type": "stream",
     "text": [
      "Apple\n",
      "Orange\n",
      "Banana\n"
     ]
    }
   ],
   "source": [
    "stringName  = [\"Apple\", \"Orange\" , \"Banana\"]\n",
    "for i in stringName :\n",
    " print(i)\n",
    "\n",
    "# print(number)"
   ]
  },
  {
   "cell_type": "code",
   "execution_count": 8,
   "metadata": {},
   "outputs": [
    {
     "name": "stdout",
     "output_type": "stream",
     "text": [
      "12\n",
      "34\n",
      "21\n",
      "Value1\n",
      "Value2\n",
      "True\n",
      "False\n"
     ]
    }
   ],
   "source": [
    "mixedList = [12,34,21,\"Value1\",\"Value2\",True,False]\n",
    "\n",
    "for i in mixedList :\n",
    "    print(i)"
   ]
  },
  {
   "cell_type": "code",
   "execution_count": null,
   "metadata": {},
   "outputs": [
    {
     "name": "stdout",
     "output_type": "stream",
     "text": [
      "[1, 2]\n",
      "[3, 4]\n"
     ]
    }
   ],
   "source": [
    "nested = [[1, 2], [3, 4]]\n",
    "for i in nested :\n",
    "    \n",
    "    print(i)"
   ]
  },
  {
   "cell_type": "code",
   "execution_count": 13,
   "metadata": {},
   "outputs": [
    {
     "name": "stdout",
     "output_type": "stream",
     "text": [
      "Apple\n"
     ]
    }
   ],
   "source": [
    "valueList   = [\"Apple\", \"Orange\" , \"Banana\"]\n",
    "print(valueList[-3])"
   ]
  },
  {
   "cell_type": "code",
   "execution_count": 16,
   "metadata": {},
   "outputs": [
    {
     "name": "stdout",
     "output_type": "stream",
     "text": [
      "['Apple', 'Orange', 'Banana']\n",
      "['Banana', 'Apple']\n"
     ]
    }
   ],
   "source": [
    "valueList   = [\"Apple\", \"Orange\" , \"Banana\"]\n",
    "print(valueList[0:3])\n",
    "print(valueList[::-2])\n"
   ]
  },
  {
   "cell_type": "code",
   "execution_count": 1,
   "metadata": {},
   "outputs": [
    {
     "name": "stdout",
     "output_type": "stream",
     "text": [
      "['Apple', 'Orange', 'Banana', 'Grapes']\n"
     ]
    }
   ],
   "source": [
    "valueList   = [\"Apple\", \"Orange\" , \"Banana\"]\n",
    "valueList.append(\"Grapes\")\n",
    "print(valueList)"
   ]
  },
  {
   "cell_type": "code",
   "execution_count": 3,
   "metadata": {},
   "outputs": [
    {
     "name": "stdout",
     "output_type": "stream",
     "text": [
      "['Apple', 'Grapes', 'Orange', 'Banana']\n"
     ]
    }
   ],
   "source": [
    "valueList   = [\"Apple\", \"Orange\" , \"Banana\"]\n",
    "valueList.insert(1,\"Grapes\")\n",
    "print(valueList)"
   ]
  },
  {
   "cell_type": "code",
   "execution_count": 5,
   "metadata": {},
   "outputs": [
    {
     "name": "stdout",
     "output_type": "stream",
     "text": [
      "['Orange', 'Banana']\n"
     ]
    }
   ],
   "source": [
    "valueList   = [\"Apple\", \"Orange\" , \"Banana\"]\n",
    "valueList.remove(\"Apple\")\n",
    "print(valueList)"
   ]
  },
  {
   "cell_type": "code",
   "execution_count": 6,
   "metadata": {},
   "outputs": [
    {
     "name": "stdout",
     "output_type": "stream",
     "text": [
      "['Apple', 'Orange']\n"
     ]
    }
   ],
   "source": [
    "valueList   = [\"Apple\", \"Orange\" , \"Banana\"]\n",
    "valueList.pop()\n",
    "print(valueList)"
   ]
  },
  {
   "cell_type": "code",
   "execution_count": 7,
   "metadata": {},
   "outputs": [
    {
     "name": "stdout",
     "output_type": "stream",
     "text": [
      "[]\n"
     ]
    }
   ],
   "source": [
    "valueList   = [\"Apple\", \"Orange\" , \"Banana\"]\n",
    "valueList.clear()\n",
    "print(valueList)"
   ]
  },
  {
   "cell_type": "code",
   "execution_count": 8,
   "metadata": {},
   "outputs": [
    {
     "name": "stdout",
     "output_type": "stream",
     "text": [
      "[0, 1, 4, 9, 16]\n"
     ]
    }
   ],
   "source": [
    "squares = [x**2 for x in range(5)]\n",
    "print(squares)"
   ]
  },
  {
   "cell_type": "code",
   "execution_count": 13,
   "metadata": {},
   "outputs": [
    {
     "name": "stdout",
     "output_type": "stream",
     "text": [
      "[1, 2, 4, 9]\n"
     ]
    }
   ],
   "source": [
    "numbers = [4, 2, 9, 1]\n",
    "# print(numbers)\n",
    "numbers.sort()\n",
    "print(numbers)"
   ]
  },
  {
   "cell_type": "code",
   "execution_count": 14,
   "metadata": {},
   "outputs": [
    {
     "name": "stdout",
     "output_type": "stream",
     "text": [
      "[1, 9, 2, 4]\n"
     ]
    }
   ],
   "source": [
    "numbers = [4, 2, 9, 1]\n",
    "# print(numbers)\n",
    "numbers.reverse()\n",
    "print(numbers)"
   ]
  },
  {
   "cell_type": "code",
   "execution_count": 22,
   "metadata": {},
   "outputs": [
    {
     "name": "stdout",
     "output_type": "stream",
     "text": [
      "[4, 2, 9, 1]\n"
     ]
    }
   ],
   "source": [
    "numbers = [4, 2, 9, 1]\n",
    "# print(numbers)\n",
    "newValue = list(numbers)\n",
    "print(newValue)"
   ]
  },
  {
   "cell_type": "code",
   "execution_count": 25,
   "metadata": {},
   "outputs": [
    {
     "name": "stdout",
     "output_type": "stream",
     "text": [
      "Yes, 'apple' is in the fruits list\n"
     ]
    }
   ],
   "source": [
    "valueList   = [\"Apple\", \"Orange\" , \"Banana\"]\n",
    "if\"Apple\" in valueList:\n",
    "    print(\"Yes, 'apple' is in the fruits list\")\n"
   ]
  },
  {
   "cell_type": "code",
   "execution_count": null,
   "metadata": {},
   "outputs": [],
   "source": []
  }
 ],
 "metadata": {
  "kernelspec": {
   "display_name": ".venv",
   "language": "python",
   "name": "python3"
  },
  "language_info": {
   "codemirror_mode": {
    "name": "ipython",
    "version": 3
   },
   "file_extension": ".py",
   "mimetype": "text/x-python",
   "name": "python",
   "nbconvert_exporter": "python",
   "pygments_lexer": "ipython3",
   "version": "3.13.2"
  }
 },
 "nbformat": 4,
 "nbformat_minor": 2
}
