{
 "cells": [
  {
   "cell_type": "code",
   "execution_count": 4,
   "metadata": {},
   "outputs": [
    {
     "name": "stdout",
     "output_type": "stream",
     "text": [
      "7\n"
     ]
    }
   ],
   "source": [
    "text  = \"i love Python\"\n",
    "output = text.find(\"P\")\n",
    "print(output)"
   ]
  },
  {
   "cell_type": "code",
   "execution_count": 7,
   "metadata": {},
   "outputs": [
    {
     "name": "stdout",
     "output_type": "stream",
     "text": [
      "i love Java\n"
     ]
    }
   ],
   "source": [
    "text  = \"i love Python\"\n",
    "output = text.replace(\"Python\", \"Java\")\n",
    "print(output)"
   ]
  },
  {
   "cell_type": "code",
   "execution_count": 19,
   "metadata": {},
   "outputs": [
    {
     "name": "stdout",
     "output_type": "stream",
     "text": [
      "i love\\Python\n"
     ]
    }
   ],
   "source": [
    "# text = \"i love \\n Python\"\n",
    "text = \"i love\\\\Python\"\n",
    "print(text)\n",
    "# print(text.isdigit())\n",
    "# print(text.islower())\n",
    "# print(\"1234\".isdigit())"
   ]
  },
  {
   "cell_type": "code",
   "execution_count": 22,
   "metadata": {},
   "outputs": [
    {
     "name": "stdout",
     "output_type": "stream",
     "text": [
      "C:\\Users\\ganes\\OneDrive\\Desktop\\Classes\\Python3pm\\code5.py\n"
     ]
    }
   ],
   "source": [
    "path = r\"C:\\Users\\ganes\\OneDrive\\Desktop\\Classes\\Python3pm\\code5.py\"\n",
    "print(path)\n"
   ]
  },
  {
   "cell_type": "code",
   "execution_count": null,
   "metadata": {},
   "outputs": [
    {
     "name": "stdout",
     "output_type": "stream",
     "text": [
      "P   y   t   h   o   n   "
     ]
    }
   ],
   "source": [
    "text = \"Python\"\n",
    "\n",
    "while i < len(text):\n",
    "    print(text[i])\n",
    "    i += 1\n",
    "    \n",
    "\n",
    "# for x in text:\n",
    "#     print(x , end=\"   \")"
   ]
  },
  {
   "cell_type": "code",
   "execution_count": 5,
   "metadata": {},
   "outputs": [
    {
     "name": "stdout",
     "output_type": "stream",
     "text": [
      "hello\n"
     ]
    }
   ],
   "source": [
    "text = \"Hello\"\n",
    "# text.replace(\"H\",\"h\")\n",
    "# text[0] = \"h\"\n",
    "text  = \"h\" +text[1:]\n",
    "print(text)"
   ]
  },
  {
   "cell_type": "code",
   "execution_count": 9,
   "metadata": {},
   "outputs": [
    {
     "name": "stdout",
     "output_type": "stream",
     "text": [
      "1235\n"
     ]
    }
   ],
   "source": [
    "num = \"1234\"\n",
    "newNum = int(num)\n",
    "print(newNum + 1)"
   ]
  },
  {
   "cell_type": "code",
   "execution_count": 10,
   "metadata": {},
   "outputs": [
    {
     "name": "stdout",
     "output_type": "stream",
     "text": [
      "['P', 'y', 't', 'h', 'o', 'n']\n"
     ]
    }
   ],
   "source": [
    "text = \"Python\"\n",
    "char_list = list(text)\n",
    "print(char_list)  \n"
   ]
  },
  {
   "cell_type": "code",
   "execution_count": null,
   "metadata": {},
   "outputs": [],
   "source": []
  }
 ],
 "metadata": {
  "kernelspec": {
   "display_name": ".venv",
   "language": "python",
   "name": "python3"
  },
  "language_info": {
   "codemirror_mode": {
    "name": "ipython",
    "version": 3
   },
   "file_extension": ".py",
   "mimetype": "text/x-python",
   "name": "python",
   "nbconvert_exporter": "python",
   "pygments_lexer": "ipython3",
   "version": "3.13.2"
  }
 },
 "nbformat": 4,
 "nbformat_minor": 2
}
